{
 "cells": [
  {
   "cell_type": "code",
   "execution_count": 3,
   "id": "bc965dda",
   "metadata": {},
   "outputs": [
    {
     "name": "stdout",
     "output_type": "stream",
     "text": [
      "a 2\n"
     ]
    }
   ],
   "source": [
    "a = 2;\n",
    "print(\"a %d\" %(a));"
   ]
  },
  {
   "cell_type": "code",
   "execution_count": 2,
   "id": "f4f3af6a",
   "metadata": {},
   "outputs": [
    {
     "name": "stdout",
     "output_type": "stream",
     "text": [
      "b 3\n"
     ]
    }
   ],
   "source": [
    "b = 3\n",
    "print(\"b %d\" %(b));"
   ]
  },
  {
   "cell_type": "code",
   "execution_count": 3,
   "id": "ed6cbeaa",
   "metadata": {},
   "outputs": [
    {
     "name": "stdout",
     "output_type": "stream",
     "text": [
      "므ㅏ지막\n"
     ]
    }
   ],
   "source": [
    "print(\"므ㅏ지막\");"
   ]
  },
  {
   "cell_type": "code",
   "execution_count": null,
   "id": "5bb3ed29",
   "metadata": {},
   "outputs": [],
   "source": [
    "print(\"4\");"
   ]
  }
 ],
 "metadata": {
  "kernelspec": {
   "display_name": "Python 3 (ipykernel)",
   "language": "python",
   "name": "python3"
  },
  "language_info": {
   "codemirror_mode": {
    "name": "ipython",
    "version": 3
   },
   "file_extension": ".py",
   "mimetype": "text/x-python",
   "name": "python",
   "nbconvert_exporter": "python",
   "pygments_lexer": "ipython3",
   "version": "3.10.4"
  }
 },
 "nbformat": 4,
 "nbformat_minor": 5
}
