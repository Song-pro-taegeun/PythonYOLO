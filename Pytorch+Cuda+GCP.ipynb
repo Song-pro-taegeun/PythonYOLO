{
 "cells": [
  {
   "cell_type": "code",
   "execution_count": null,
   "metadata": {},
   "outputs": [],
   "source": [
    "import ultralytics\n",
    "\n",
    "ultralytics.checks()"
   ]
  },
  {
   "cell_type": "code",
   "execution_count": 1,
   "metadata": {},
   "outputs": [
    {
     "name": "stdout",
     "output_type": "stream",
     "text": [
      "True\n",
      "Tue Jun  6 07:32:43 2023       \n",
      "+---------------------------------------------------------------------------------------+\n",
      "| NVIDIA-SMI 530.30.02              Driver Version: 530.30.02    CUDA Version: 12.1     |\n",
      "|-----------------------------------------+----------------------+----------------------+\n",
      "| GPU  Name                  Persistence-M| Bus-Id        Disp.A | Volatile Uncorr. ECC |\n",
      "| Fan  Temp  Perf            Pwr:Usage/Cap|         Memory-Usage | GPU-Util  Compute M. |\n",
      "|                                         |                      |               MIG M. |\n",
      "|=========================================+======================+======================|\n",
      "|   0  Tesla T4                        On | 00000000:00:04.0 Off |                    0 |\n",
      "| N/A   70C    P8               11W /  70W|      5MiB / 15360MiB |      0%      Default |\n",
      "|                                         |                      |                  N/A |\n",
      "+-----------------------------------------+----------------------+----------------------+\n",
      "                                                                                         \n",
      "+---------------------------------------------------------------------------------------+\n",
      "| Processes:                                                                            |\n",
      "|  GPU   GI   CI        PID   Type   Process name                            GPU Memory |\n",
      "|        ID   ID                                                             Usage      |\n",
      "|=======================================================================================|\n",
      "|  No running processes found                                                           |\n",
      "+---------------------------------------------------------------------------------------+\n"
     ]
    }
   ],
   "source": [
    "import torch\n",
    "print(torch.cuda.is_available())\n",
    "!nvidia-smi"
   ]
  },
  {
   "cell_type": "code",
   "execution_count": null,
   "metadata": {},
   "outputs": [],
   "source": [
    "#########prepared images"
   ]
  },
  {
   "cell_type": "code",
   "execution_count": 1,
   "metadata": {},
   "outputs": [
    {
     "name": "stdout",
     "output_type": "stream",
     "text": [
      "Wed Jun  7 09:15:01 2023       \n",
      "+---------------------------------------------------------------------------------------+\n",
      "| NVIDIA-SMI 530.30.02              Driver Version: 530.30.02    CUDA Version: 12.1     |\n",
      "|-----------------------------------------+----------------------+----------------------+\n",
      "| GPU  Name                  Persistence-M| Bus-Id        Disp.A | Volatile Uncorr. ECC |\n",
      "| Fan  Temp  Perf            Pwr:Usage/Cap|         Memory-Usage | GPU-Util  Compute M. |\n",
      "|                                         |                      |               MIG M. |\n",
      "|=========================================+======================+======================|\n",
      "|   0  Tesla T4                        On | 00000000:00:04.0 Off |                    0 |\n",
      "| N/A   47C    P0               29W /  70W|      5MiB / 15360MiB |      0%      Default |\n",
      "|                                         |                      |                  N/A |\n",
      "+-----------------------------------------+----------------------+----------------------+\n",
      "                                                                                         \n",
      "+---------------------------------------------------------------------------------------+\n",
      "| Processes:                                                                            |\n",
      "|  GPU   GI   CI        PID   Type   Process name                            GPU Memory |\n",
      "|        ID   ID                                                             Usage      |\n",
      "|=======================================================================================|\n",
      "|  No running processes found                                                           |\n",
      "+---------------------------------------------------------------------------------------+\n"
     ]
    }
   ],
   "source": [
    "from numba import cuda\n",
    "\n",
    "#GPU Consumption reset\n",
    "device = cuda.get_current_device()\n",
    "device.reset()\n",
    "!nvidia-smi"
   ]
  },
  {
   "cell_type": "code",
   "execution_count": null,
   "metadata": {},
   "outputs": [],
   "source": [
    "#grid search example\n",
    "from ray import tune\n",
    "from ultralytics import YOLO\n",
    "\n",
    "model = YOLO('yolov8l.pt')\n",
    "result = model.tune(data=\"/home/loworbitalioncannon/project/images/data.yaml\", space={\"epochs\": tune.grid_search([10,50,100]),\n",
    "                                                \"lr0\":tune.grid_search([0.001]),\n",
    "                                                \"optimizer\":tune.grid_search(['AdamW']),\n",
    "                                                \"imgsz\":tune.grid_search([416])}, max_samples=3,gpu_per_trial=1)"
   ]
  },
  {
   "cell_type": "code",
   "execution_count": 4,
   "metadata": {},
   "outputs": [
    {
     "name": "stderr",
     "output_type": "stream",
     "text": [
      "Ultralytics YOLOv8.0.113 🚀 Python-3.10.9 torch-2.0.1+cu117 CUDA:0 (Tesla T4, 14966MiB)\n",
      "\u001b[34m\u001b[1myolo/engine/trainer: \u001b[0mtask=detect, mode=train, model=yolov8l.pt, data=/home/loworbitalioncannon/project/images/data.yaml, epochs=35, patience=50, batch=16, imgsz=416, save=True, save_period=-1, cache=False, device=0, workers=24, project=None, name=None, exist_ok=False, pretrained=False, optimizer=NAdam, verbose=True, seed=0, deterministic=True, single_cls=False, rect=False, cos_lr=False, close_mosaic=0, resume=False, amp=True, fraction=1.0, profile=False, overlap_mask=True, mask_ratio=4, dropout=0.0, val=True, split=val, save_json=False, save_hybrid=False, conf=None, iou=0.7, max_det=300, half=False, dnn=False, plots=True, source=None, show=False, save_txt=False, save_conf=False, save_crop=False, show_labels=True, show_conf=True, vid_stride=1, line_width=None, visualize=False, augment=False, agnostic_nms=False, classes=None, retina_masks=False, boxes=True, format=torchscript, keras=False, optimize=False, int8=False, dynamic=False, simplify=False, opset=None, workspace=4, nms=False, lr0=0.001, lrf=0.01, momentum=0.937, weight_decay=0.0005, warmup_epochs=3.0, warmup_momentum=0.8, warmup_bias_lr=0.1, box=7.5, cls=0.5, dfl=1.5, pose=12.0, kobj=1.0, label_smoothing=0.0, nbs=64, hsv_h=0.015, hsv_s=0.7, hsv_v=0.4, degrees=0.0, translate=0.1, scale=0.5, shear=0.0, perspective=0.0, flipud=0.0, fliplr=0.5, mosaic=1.0, mixup=0.0, copy_paste=0.0, cfg=None, v5loader=False, tracker=botsort.yaml, save_dir=runs/detect/train\n",
      "Overriding model.yaml nc=80 with nc=52\n",
      "\n",
      "                   from  n    params  module                                       arguments                     \n",
      "  0                  -1  1      1856  ultralytics.nn.modules.conv.Conv             [3, 64, 3, 2]                 \n",
      "  1                  -1  1     73984  ultralytics.nn.modules.conv.Conv             [64, 128, 3, 2]               \n",
      "  2                  -1  3    279808  ultralytics.nn.modules.block.C2f             [128, 128, 3, True]           \n",
      "  3                  -1  1    295424  ultralytics.nn.modules.conv.Conv             [128, 256, 3, 2]              \n",
      "  4                  -1  6   2101248  ultralytics.nn.modules.block.C2f             [256, 256, 6, True]           \n",
      "  5                  -1  1   1180672  ultralytics.nn.modules.conv.Conv             [256, 512, 3, 2]              \n",
      "  6                  -1  6   8396800  ultralytics.nn.modules.block.C2f             [512, 512, 6, True]           \n",
      "  7                  -1  1   2360320  ultralytics.nn.modules.conv.Conv             [512, 512, 3, 2]              \n",
      "  8                  -1  3   4461568  ultralytics.nn.modules.block.C2f             [512, 512, 3, True]           \n",
      "  9                  -1  1    656896  ultralytics.nn.modules.block.SPPF            [512, 512, 5]                 \n",
      " 10                  -1  1         0  torch.nn.modules.upsampling.Upsample         [None, 2, 'nearest']          \n",
      " 11             [-1, 6]  1         0  ultralytics.nn.modules.conv.Concat           [1]                           \n",
      " 12                  -1  3   4723712  ultralytics.nn.modules.block.C2f             [1024, 512, 3]                \n",
      " 13                  -1  1         0  torch.nn.modules.upsampling.Upsample         [None, 2, 'nearest']          \n",
      " 14             [-1, 4]  1         0  ultralytics.nn.modules.conv.Concat           [1]                           \n",
      " 15                  -1  3   1247744  ultralytics.nn.modules.block.C2f             [768, 256, 3]                 \n",
      " 16                  -1  1    590336  ultralytics.nn.modules.conv.Conv             [256, 256, 3, 2]              \n",
      " 17            [-1, 12]  1         0  ultralytics.nn.modules.conv.Concat           [1]                           \n",
      " 18                  -1  3   4592640  ultralytics.nn.modules.block.C2f             [768, 512, 3]                 \n",
      " 19                  -1  1   2360320  ultralytics.nn.modules.conv.Conv             [512, 512, 3, 2]              \n",
      " 20             [-1, 9]  1         0  ultralytics.nn.modules.conv.Concat           [1]                           \n",
      " 21                  -1  3   4723712  ultralytics.nn.modules.block.C2f             [1024, 512, 3]                \n",
      " 22        [15, 18, 21]  1   5622892  ultralytics.nn.modules.head.Detect           [52, [256, 512, 512]]         \n",
      "Model summary: 365 layers, 43669932 parameters, 43669916 gradients\n",
      "\n",
      "Transferred 589/595 items from pretrained weights\n",
      "\u001b[34m\u001b[1mwandb\u001b[0m: Currently logged in as: \u001b[33mloworbitalioncannon\u001b[0m (\u001b[33mtaegoneom\u001b[0m). Use \u001b[1m`wandb login --relogin`\u001b[0m to force relogin\n"
     ]
    },
    {
     "data": {
      "text/html": [
       "Tracking run with wandb version 0.15.3"
      ],
      "text/plain": [
       "<IPython.core.display.HTML object>"
      ]
     },
     "metadata": {},
     "output_type": "display_data"
    },
    {
     "data": {
      "text/html": [
       "Run data is saved locally in <code>/home/loworbitalioncannon/project/wandb/run-20230605_170348-a7jweunu</code>"
      ],
      "text/plain": [
       "<IPython.core.display.HTML object>"
      ]
     },
     "metadata": {},
     "output_type": "display_data"
    },
    {
     "data": {
      "text/html": [
       "Syncing run <strong><a href='https://wandb.ai/taegoneom/YOLOv8/runs/a7jweunu' target=\"_blank\">cool-paper-90</a></strong> to <a href='https://wandb.ai/taegoneom/YOLOv8' target=\"_blank\">Weights & Biases</a> (<a href='https://wandb.me/run' target=\"_blank\">docs</a>)<br/>"
      ],
      "text/plain": [
       "<IPython.core.display.HTML object>"
      ]
     },
     "metadata": {},
     "output_type": "display_data"
    },
    {
     "data": {
      "text/html": [
       " View project at <a href='https://wandb.ai/taegoneom/YOLOv8' target=\"_blank\">https://wandb.ai/taegoneom/YOLOv8</a>"
      ],
      "text/plain": [
       "<IPython.core.display.HTML object>"
      ]
     },
     "metadata": {},
     "output_type": "display_data"
    },
    {
     "data": {
      "text/html": [
       " View run at <a href='https://wandb.ai/taegoneom/YOLOv8/runs/a7jweunu' target=\"_blank\">https://wandb.ai/taegoneom/YOLOv8/runs/a7jweunu</a>"
      ],
      "text/plain": [
       "<IPython.core.display.HTML object>"
      ]
     },
     "metadata": {},
     "output_type": "display_data"
    },
    {
     "name": "stderr",
     "output_type": "stream",
     "text": [
      "\u001b[34m\u001b[1mAMP: \u001b[0mrunning Automatic Mixed Precision (AMP) checks with YOLOv8n...\n",
      "\u001b[34m\u001b[1mAMP: \u001b[0mchecks passed ✅\n",
      "\u001b[34m\u001b[1mtrain: \u001b[0mScanning /home/loworbitalioncannon/project/images/train/labels.cache... 14000 images, 0 backgrounds, 0 corrupt: 100%|██████████| 14000/14000 [00:00<?, ?it/s]\u001b[0m\n",
      "\u001b[34m\u001b[1mval: \u001b[0mScanning /home/loworbitalioncannon/project/images/valid/labels.cache... 4000 images, 0 backgrounds, 0 corrupt: 100%|██████████| 4000/4000 [00:00<?, ?it/s]\u001b[0m\n",
      "Plotting labels to runs/detect/train/labels.jpg... \n",
      "\u001b[34m\u001b[1moptimizer:\u001b[0m NAdam(lr=0.001, momentum=0.937) with parameter groups 97 weight(decay=0.0), 104 weight(decay=0.0005), 103 bias(decay=0.0)\n",
      "Image sizes 416 train, 416 val\n",
      "Using 16 dataloader workers\n",
      "Logging results to \u001b[1mruns/detect/train\u001b[0m\n",
      "Starting training for 35 epochs...\n",
      "\n",
      "      Epoch    GPU_mem   box_loss   cls_loss   dfl_loss  Instances       Size\n",
      "       1/35       4.8G     0.8668      1.683     0.8511        108        416: 100%|██████████| 875/875 [05:14<00:00,  2.78it/s]\n",
      "                 Class     Images  Instances      Box(P          R      mAP50  mAP50-95): 100%|██████████| 125/125 [00:51<00:00,  2.42it/s]\n",
      "                   all       4000      15159      0.851      0.912      0.937      0.794\n",
      "\n",
      "      Epoch    GPU_mem   box_loss   cls_loss   dfl_loss  Instances       Size\n",
      "       2/35      5.23G      0.739     0.7982     0.8292         93        416: 100%|██████████| 875/875 [05:05<00:00,  2.87it/s]\n",
      "                 Class     Images  Instances      Box(P          R      mAP50  mAP50-95): 100%|██████████| 125/125 [00:52<00:00,  2.40it/s]\n",
      "                   all       4000      15159      0.913      0.972      0.961      0.837\n",
      "\n",
      "      Epoch    GPU_mem   box_loss   cls_loss   dfl_loss  Instances       Size\n",
      "       3/35      5.15G     0.6813     0.6554      0.822         75        416: 100%|██████████| 875/875 [05:02<00:00,  2.90it/s]\n",
      "                 Class     Images  Instances      Box(P          R      mAP50  mAP50-95): 100%|██████████| 125/125 [00:52<00:00,  2.40it/s]\n",
      "                   all       4000      15159      0.937      0.986      0.972       0.87\n",
      "\n",
      "      Epoch    GPU_mem   box_loss   cls_loss   dfl_loss  Instances       Size\n",
      "       4/35      5.22G     0.6264     0.5825     0.8156         80        416: 100%|██████████| 875/875 [05:00<00:00,  2.91it/s]\n",
      "                 Class     Images  Instances      Box(P          R      mAP50  mAP50-95): 100%|██████████| 125/125 [00:51<00:00,  2.41it/s]\n",
      "                   all       4000      15159       0.93      0.991      0.968      0.867\n",
      "\n",
      "      Epoch    GPU_mem   box_loss   cls_loss   dfl_loss  Instances       Size\n",
      "       5/35      5.14G     0.5838     0.5245       0.81         85        416: 100%|██████████| 875/875 [04:59<00:00,  2.92it/s]\n",
      "                 Class     Images  Instances      Box(P          R      mAP50  mAP50-95): 100%|██████████| 125/125 [00:51<00:00,  2.41it/s]\n",
      "                   all       4000      15159      0.932      0.992      0.966      0.869\n",
      "\n",
      "      Epoch    GPU_mem   box_loss   cls_loss   dfl_loss  Instances       Size\n",
      "       6/35      5.22G     0.5591     0.4992     0.8082         80        416: 100%|██████████| 875/875 [04:59<00:00,  2.92it/s]\n",
      "                 Class     Images  Instances      Box(P          R      mAP50  mAP50-95): 100%|██████████| 125/125 [00:51<00:00,  2.41it/s]\n",
      "                   all       4000      15159      0.938      0.994       0.97      0.856\n",
      "\n",
      "      Epoch    GPU_mem   box_loss   cls_loss   dfl_loss  Instances       Size\n",
      "       7/35      5.21G     0.5353     0.4683     0.8034         81        416: 100%|██████████| 875/875 [05:00<00:00,  2.92it/s]\n",
      "                 Class     Images  Instances      Box(P          R      mAP50  mAP50-95): 100%|██████████| 125/125 [00:51<00:00,  2.40it/s]\n",
      "                   all       4000      15159      0.937      0.994      0.971      0.878\n",
      "\n",
      "      Epoch    GPU_mem   box_loss   cls_loss   dfl_loss  Instances       Size\n",
      "       8/35      5.21G     0.5165     0.4545      0.802         73        416: 100%|██████████| 875/875 [04:59<00:00,  2.92it/s]\n",
      "                 Class     Images  Instances      Box(P          R      mAP50  mAP50-95): 100%|██████████| 125/125 [00:51<00:00,  2.41it/s]\n",
      "                   all       4000      15159      0.938      0.996      0.974      0.883\n",
      "\n",
      "      Epoch    GPU_mem   box_loss   cls_loss   dfl_loss  Instances       Size\n",
      "       9/35      5.13G     0.5037     0.4344     0.8001         94        416: 100%|██████████| 875/875 [04:59<00:00,  2.92it/s]\n",
      "                 Class     Images  Instances      Box(P          R      mAP50  mAP50-95): 100%|██████████| 125/125 [00:51<00:00,  2.41it/s]\n",
      "                   all       4000      15159       0.94      0.995      0.974      0.887\n",
      "\n",
      "      Epoch    GPU_mem   box_loss   cls_loss   dfl_loss  Instances       Size\n",
      "      10/35       5.2G     0.4947     0.4292     0.7991        102        416: 100%|██████████| 875/875 [04:59<00:00,  2.92it/s]\n",
      "                 Class     Images  Instances      Box(P          R      mAP50  mAP50-95): 100%|██████████| 125/125 [00:51<00:00,  2.43it/s]\n",
      "                   all       4000      15159       0.94      0.993      0.974      0.876\n",
      "\n",
      "      Epoch    GPU_mem   box_loss   cls_loss   dfl_loss  Instances       Size\n",
      "      11/35      5.26G     0.4824     0.4136     0.7971         73        416: 100%|██████████| 875/875 [05:00<00:00,  2.92it/s]\n",
      "                 Class     Images  Instances      Box(P          R      mAP50  mAP50-95): 100%|██████████| 125/125 [00:51<00:00,  2.42it/s]\n",
      "                   all       4000      15159      0.945      0.989      0.978      0.895\n",
      "\n",
      "      Epoch    GPU_mem   box_loss   cls_loss   dfl_loss  Instances       Size\n",
      "      12/35      5.27G     0.4718     0.4073     0.7956         94        416: 100%|██████████| 875/875 [04:59<00:00,  2.92it/s]\n",
      "                 Class     Images  Instances      Box(P          R      mAP50  mAP50-95): 100%|██████████| 125/125 [00:51<00:00,  2.42it/s]\n",
      "                   all       4000      15159      0.943      0.991      0.977      0.891\n",
      "\n",
      "      Epoch    GPU_mem   box_loss   cls_loss   dfl_loss  Instances       Size\n",
      "      13/35      5.14G     0.4638     0.3951     0.7953         67        416: 100%|██████████| 875/875 [04:59<00:00,  2.92it/s]\n",
      "                 Class     Images  Instances      Box(P          R      mAP50  mAP50-95): 100%|██████████| 125/125 [00:52<00:00,  2.40it/s]\n",
      "                   all       4000      15159      0.947      0.991      0.978      0.905\n",
      "\n",
      "      Epoch    GPU_mem   box_loss   cls_loss   dfl_loss  Instances       Size\n",
      "      14/35      5.17G     0.4606     0.3941     0.7937         92        416:  38%|███▊      | 333/875 [01:54<03:09,  2.86it/s]"
     ]
    }
   ],
   "source": [
    "from ultralytics import YOLO\n",
    "\n",
    "model = YOLO('yolov8l.pt') \n",
    "model.train(data=\"/home/loworbitalioncannon/project/images/data.yaml\", epochs=35, imgsz=416, device=0, optimizer='NAdam', lr0=0.001,  workers=24,batch=16)"
   ]
  },
  {
   "cell_type": "code",
   "execution_count": 3,
   "metadata": {},
   "outputs": [
    {
     "name": "stderr",
     "output_type": "stream",
     "text": [
      "New https://pypi.org/project/ultralytics/8.0.114 available 😃 Update with 'pip install -U ultralytics'\n",
      "Ultralytics YOLOv8.0.113 🚀 Python-3.10.9 torch-2.0.1+cu117 CUDA:0 (Tesla T4, 14966MiB)\n",
      "\u001b[34m\u001b[1myolo/engine/trainer: \u001b[0mtask=detect, mode=train, model=/home/loworbitalioncannon/project/runs/detect/train23/weights/best.pt, data=/home/loworbitalioncannon/project/images/data.yaml, epochs=20, patience=50, batch=48, imgsz=416, save=True, save_period=-1, cache=False, device=0, workers=24, project=None, name=None, exist_ok=False, pretrained=False, optimizer=NAdam, verbose=True, seed=0, deterministic=True, single_cls=False, rect=False, cos_lr=False, close_mosaic=0, resume=False, amp=True, fraction=1.0, profile=False, overlap_mask=True, mask_ratio=4, dropout=0.0, val=True, split=val, save_json=False, save_hybrid=False, conf=None, iou=0.7, max_det=300, half=False, dnn=False, plots=True, source=None, show=False, save_txt=False, save_conf=False, save_crop=False, show_labels=True, show_conf=True, vid_stride=1, line_width=None, visualize=False, augment=False, agnostic_nms=False, classes=None, retina_masks=False, boxes=True, format=torchscript, keras=False, optimize=False, int8=False, dynamic=False, simplify=False, opset=None, workspace=4, nms=False, lr0=0.001, lrf=0.01, momentum=0.937, weight_decay=0.0005, warmup_epochs=3.0, warmup_momentum=0.8, warmup_bias_lr=0.1, box=7.5, cls=0.5, dfl=1.5, pose=12.0, kobj=1.0, label_smoothing=0.0, nbs=64, hsv_h=0.015, hsv_s=0.7, hsv_v=0.4, degrees=0.0, translate=0.1, scale=0.5, shear=0.0, perspective=0.0, flipud=0.0, fliplr=0.5, mosaic=1.0, mixup=0.0, copy_paste=0.0, cfg=None, v5loader=False, tracker=botsort.yaml, save_dir=runs/detect/train24\n",
      "\n",
      "                   from  n    params  module                                       arguments                     \n",
      "  0                  -1  1      1856  ultralytics.nn.modules.conv.Conv             [3, 64, 3, 2]                 \n",
      "  1                  -1  1     73984  ultralytics.nn.modules.conv.Conv             [64, 128, 3, 2]               \n",
      "  2                  -1  3    279808  ultralytics.nn.modules.block.C2f             [128, 128, 3, True]           \n",
      "  3                  -1  1    295424  ultralytics.nn.modules.conv.Conv             [128, 256, 3, 2]              \n",
      "  4                  -1  6   2101248  ultralytics.nn.modules.block.C2f             [256, 256, 6, True]           \n",
      "  5                  -1  1   1180672  ultralytics.nn.modules.conv.Conv             [256, 512, 3, 2]              \n",
      "  6                  -1  6   8396800  ultralytics.nn.modules.block.C2f             [512, 512, 6, True]           \n",
      "  7                  -1  1   2360320  ultralytics.nn.modules.conv.Conv             [512, 512, 3, 2]              \n",
      "  8                  -1  3   4461568  ultralytics.nn.modules.block.C2f             [512, 512, 3, True]           \n",
      "  9                  -1  1    656896  ultralytics.nn.modules.block.SPPF            [512, 512, 5]                 \n",
      " 10                  -1  1         0  torch.nn.modules.upsampling.Upsample         [None, 2, 'nearest']          \n",
      " 11             [-1, 6]  1         0  ultralytics.nn.modules.conv.Concat           [1]                           \n",
      " 12                  -1  3   4723712  ultralytics.nn.modules.block.C2f             [1024, 512, 3]                \n",
      " 13                  -1  1         0  torch.nn.modules.upsampling.Upsample         [None, 2, 'nearest']          \n",
      " 14             [-1, 4]  1         0  ultralytics.nn.modules.conv.Concat           [1]                           \n",
      " 15                  -1  3   1247744  ultralytics.nn.modules.block.C2f             [768, 256, 3]                 \n",
      " 16                  -1  1    590336  ultralytics.nn.modules.conv.Conv             [256, 256, 3, 2]              \n",
      " 17            [-1, 12]  1         0  ultralytics.nn.modules.conv.Concat           [1]                           \n",
      " 18                  -1  3   4592640  ultralytics.nn.modules.block.C2f             [768, 512, 3]                 \n",
      " 19                  -1  1   2360320  ultralytics.nn.modules.conv.Conv             [512, 512, 3, 2]              \n",
      " 20             [-1, 9]  1         0  ultralytics.nn.modules.conv.Concat           [1]                           \n",
      " 21                  -1  3   4723712  ultralytics.nn.modules.block.C2f             [1024, 512, 3]                \n",
      " 22        [15, 18, 21]  1   5622892  ultralytics.nn.modules.head.Detect           [52, [256, 512, 512]]         \n",
      "Model summary: 365 layers, 43669932 parameters, 43669916 gradients\n",
      "\n",
      "Transferred 595/595 items from pretrained weights\n",
      "\u001b[34m\u001b[1mAMP: \u001b[0mrunning Automatic Mixed Precision (AMP) checks with YOLOv8n...\n",
      "\u001b[34m\u001b[1mAMP: \u001b[0mchecks passed ✅\n",
      "\u001b[34m\u001b[1mtrain: \u001b[0mScanning /home/loworbitalioncannon/project/images/train/labels.cache... 14000 images, 0 backgrounds, 0 corrupt: 100%|██████████| 14000/14000 [00:00<?, ?it/s\u001b[0m\n",
      "\u001b[34m\u001b[1mval: \u001b[0mScanning /home/loworbitalioncannon/project/images/valid/labels.cache... 4000 images, 0 backgrounds, 0 corrupt: 100%|██████████| 4000/4000 [00:00<?, ?it/s]\u001b[0m\n",
      "Plotting labels to runs/detect/train24/labels.jpg... \n",
      "\u001b[34m\u001b[1moptimizer:\u001b[0m NAdam(lr=0.001, momentum=0.937) with parameter groups 97 weight(decay=0.0), 104 weight(decay=0.000375), 103 bias(decay=0.0)\n",
      "Image sizes 416 train, 416 val\n",
      "Using 24 dataloader workers\n",
      "Logging results to \u001b[1mruns/detect/train24\u001b[0m\n",
      "Starting training for 20 epochs...\n",
      "\n",
      "      Epoch    GPU_mem   box_loss   cls_loss   dfl_loss  Instances       Size\n",
      "       1/20        12G      0.388     0.2958      0.782        162        416: 100%|██████████| 292/292 [04:51<00:00,  1.00it/s]\n",
      "                 Class     Images  Instances      Box(P          R      mAP50  mAP50-95): 100%|██████████| 42/42 [00:51<00:00,  1.23s/it]\n",
      "                   all       4000      15159      0.976       0.99       0.99      0.927\n",
      "\n",
      "      Epoch    GPU_mem   box_loss   cls_loss   dfl_loss  Instances       Size\n",
      "       2/20      12.1G     0.4032     0.3109     0.7857        194        416: 100%|██████████| 292/292 [04:54<00:00,  1.01s/it]\n",
      "                 Class     Images  Instances      Box(P          R      mAP50  mAP50-95): 100%|██████████| 42/42 [00:51<00:00,  1.23s/it]\n",
      "                   all       4000      15159      0.969      0.986      0.988      0.875\n",
      "\n",
      "      Epoch    GPU_mem   box_loss   cls_loss   dfl_loss  Instances       Size\n",
      "       3/20      12.1G     0.4258     0.3355     0.7897        209        416: 100%|██████████| 292/292 [04:54<00:00,  1.01s/it]\n",
      "                 Class     Images  Instances      Box(P          R      mAP50  mAP50-95): 100%|██████████| 42/42 [00:51<00:00,  1.24s/it]\n",
      "                   all       4000      15159      0.961      0.983      0.987       0.91\n",
      "\n",
      "      Epoch    GPU_mem   box_loss   cls_loss   dfl_loss  Instances       Size\n",
      "       4/20      12.1G     0.4245     0.3375     0.7889        188        416: 100%|██████████| 292/292 [04:53<00:00,  1.00s/it]\n",
      "                 Class     Images  Instances      Box(P          R      mAP50  mAP50-95): 100%|██████████| 42/42 [00:52<00:00,  1.24s/it]\n",
      "                   all       4000      15159      0.979       0.98       0.99      0.931\n",
      "\n",
      "      Epoch    GPU_mem   box_loss   cls_loss   dfl_loss  Instances       Size\n",
      "       5/20      12.1G     0.4188     0.3313     0.7896        187        416: 100%|██████████| 292/292 [04:53<00:00,  1.00s/it]\n",
      "                 Class     Images  Instances      Box(P          R      mAP50  mAP50-95): 100%|██████████| 42/42 [00:51<00:00,  1.23s/it]\n",
      "                   all       4000      15159      0.976      0.981      0.988      0.885\n",
      "\n",
      "      Epoch    GPU_mem   box_loss   cls_loss   dfl_loss  Instances       Size\n",
      "       6/20      12.1G     0.4095     0.3206      0.789        177        416: 100%|██████████| 292/292 [04:51<00:00,  1.00it/s]\n",
      "                 Class     Images  Instances      Box(P          R      mAP50  mAP50-95): 100%|██████████| 42/42 [00:51<00:00,  1.23s/it]\n",
      "                   all       4000      15159       0.97       0.99      0.989      0.913\n",
      "\n",
      "      Epoch    GPU_mem   box_loss   cls_loss   dfl_loss  Instances       Size\n",
      "       7/20      12.1G     0.4029     0.3131     0.7883        148        416: 100%|██████████| 292/292 [04:51<00:00,  1.00it/s]\n",
      "                 Class     Images  Instances      Box(P          R      mAP50  mAP50-95): 100%|██████████| 42/42 [00:51<00:00,  1.23s/it]\n",
      "                   all       4000      15159      0.976      0.987       0.99      0.927\n",
      "\n",
      "      Epoch    GPU_mem   box_loss   cls_loss   dfl_loss  Instances       Size\n",
      "       8/20      12.1G     0.3963     0.3055     0.7863        149        416: 100%|██████████| 292/292 [04:52<00:00,  1.00s/it]\n",
      "                 Class     Images  Instances      Box(P          R      mAP50  mAP50-95): 100%|██████████| 42/42 [00:51<00:00,  1.23s/it]\n",
      "                   all       4000      15159      0.977      0.988       0.99       0.94\n",
      "\n",
      "      Epoch    GPU_mem   box_loss   cls_loss   dfl_loss  Instances       Size\n",
      "       9/20      12.1G     0.3884     0.2975     0.7858        175        416: 100%|██████████| 292/292 [04:51<00:00,  1.00it/s]\n",
      "                 Class     Images  Instances      Box(P          R      mAP50  mAP50-95): 100%|██████████| 42/42 [00:51<00:00,  1.23s/it]\n",
      "                   all       4000      15159      0.976      0.987      0.989      0.918\n",
      "\n",
      "      Epoch    GPU_mem   box_loss   cls_loss   dfl_loss  Instances       Size\n",
      "      10/20      12.1G     0.3828      0.291     0.7861        199        416: 100%|██████████| 292/292 [04:51<00:00,  1.00it/s]\n",
      "                 Class     Images  Instances      Box(P          R      mAP50  mAP50-95): 100%|██████████| 42/42 [00:51<00:00,  1.23s/it]\n",
      "                   all       4000      15159      0.977      0.987       0.99      0.937\n",
      "\n",
      "      Epoch    GPU_mem   box_loss   cls_loss   dfl_loss  Instances       Size\n",
      "      11/20      12.1G     0.3768     0.2839     0.7853        157        416: 100%|██████████| 292/292 [04:50<00:00,  1.00it/s]\n",
      "                 Class     Images  Instances      Box(P          R      mAP50  mAP50-95): 100%|██████████| 42/42 [00:51<00:00,  1.22s/it]\n",
      "                   all       4000      15159      0.978      0.985       0.99      0.926\n",
      "\n",
      "      Epoch    GPU_mem   box_loss   cls_loss   dfl_loss  Instances       Size\n",
      "      12/20      12.1G     0.3736     0.2807     0.7853        158        416: 100%|██████████| 292/292 [04:50<00:00,  1.01it/s]\n",
      "                 Class     Images  Instances      Box(P          R      mAP50  mAP50-95): 100%|██████████| 42/42 [00:51<00:00,  1.22s/it]\n",
      "                   all       4000      15159      0.983      0.987      0.991      0.932\n",
      "\n",
      "      Epoch    GPU_mem   box_loss   cls_loss   dfl_loss  Instances       Size\n",
      "      13/20      12.1G     0.3682     0.2732      0.784        130        416: 100%|██████████| 292/292 [04:49<00:00,  1.01it/s]\n",
      "                 Class     Images  Instances      Box(P          R      mAP50  mAP50-95): 100%|██████████| 42/42 [00:51<00:00,  1.22s/it]\n",
      "                   all       4000      15159      0.988      0.983      0.992      0.932\n",
      "\n",
      "      Epoch    GPU_mem   box_loss   cls_loss   dfl_loss  Instances       Size\n",
      "      14/20      12.1G     0.3613     0.2673     0.7839        157        416: 100%|██████████| 292/292 [04:50<00:00,  1.01it/s]\n",
      "                 Class     Images  Instances      Box(P          R      mAP50  mAP50-95): 100%|██████████| 42/42 [00:51<00:00,  1.22s/it]\n",
      "                   all       4000      15159      0.982       0.99      0.991      0.945\n",
      "\n",
      "      Epoch    GPU_mem   box_loss   cls_loss   dfl_loss  Instances       Size\n",
      "      15/20      12.1G     0.3568      0.259     0.7838        162        416: 100%|██████████| 292/292 [04:49<00:00,  1.01it/s]\n",
      "                 Class     Images  Instances      Box(P          R      mAP50  mAP50-95): 100%|██████████| 42/42 [00:51<00:00,  1.22s/it]\n",
      "                   all       4000      15159      0.978      0.993      0.991      0.935\n",
      "\n",
      "      Epoch    GPU_mem   box_loss   cls_loss   dfl_loss  Instances       Size\n",
      "      16/20      12.1G     0.3523     0.2555     0.7833        177        416: 100%|██████████| 292/292 [04:49<00:00,  1.01it/s]\n",
      "                 Class     Images  Instances      Box(P          R      mAP50  mAP50-95): 100%|██████████| 42/42 [00:51<00:00,  1.23s/it]\n",
      "                   all       4000      15159       0.98      0.993      0.991      0.928\n",
      "\n",
      "      Epoch    GPU_mem   box_loss   cls_loss   dfl_loss  Instances       Size\n",
      "      17/20      12.1G     0.3462      0.249     0.7824        136        416: 100%|██████████| 292/292 [04:49<00:00,  1.01it/s]\n",
      "                 Class     Images  Instances      Box(P          R      mAP50  mAP50-95): 100%|██████████| 42/42 [00:51<00:00,  1.23s/it]\n",
      "                   all       4000      15159       0.98      0.991      0.991      0.943\n",
      "\n",
      "      Epoch    GPU_mem   box_loss   cls_loss   dfl_loss  Instances       Size\n",
      "      18/20      12.1G     0.3424     0.2422     0.7829        177        416: 100%|██████████| 292/292 [04:49<00:00,  1.01it/s]\n",
      "                 Class     Images  Instances      Box(P          R      mAP50  mAP50-95): 100%|██████████| 42/42 [00:51<00:00,  1.22s/it]\n",
      "                   all       4000      15159      0.984      0.988      0.992      0.951\n",
      "\n",
      "      Epoch    GPU_mem   box_loss   cls_loss   dfl_loss  Instances       Size\n",
      "      19/20      12.1G     0.3399     0.2396     0.7816        154        416: 100%|██████████| 292/292 [04:49<00:00,  1.01it/s]\n",
      "                 Class     Images  Instances      Box(P          R      mAP50  mAP50-95): 100%|██████████| 42/42 [00:51<00:00,  1.22s/it]\n",
      "                   all       4000      15159      0.982       0.99      0.991      0.946\n",
      "\n",
      "      Epoch    GPU_mem   box_loss   cls_loss   dfl_loss  Instances       Size\n",
      "      20/20      12.1G     0.3343     0.2329      0.781        200        416: 100%|██████████| 292/292 [04:49<00:00,  1.01it/s]\n",
      "                 Class     Images  Instances      Box(P          R      mAP50  mAP50-95): 100%|██████████| 42/42 [00:58<00:00,  1.39s/it]\n",
      "                   all       4000      15159      0.983      0.991      0.992      0.943\n",
      "\n",
      "20 epochs completed in 1.937 hours.\n",
      "Optimizer stripped from runs/detect/train24/weights/last.pt, 87.7MB\n",
      "Optimizer stripped from runs/detect/train24/weights/best.pt, 87.7MB\n",
      "\n",
      "Validating runs/detect/train24/weights/best.pt...\n",
      "Ultralytics YOLOv8.0.113 🚀 Python-3.10.9 torch-2.0.1+cu117 CUDA:0 (Tesla T4, 14966MiB)\n",
      "Model summary (fused): 268 layers, 43646700 parameters, 0 gradients\n",
      "                 Class     Images  Instances      Box(P          R      mAP50  mAP50-95): 100%|██████████| 42/42 [00:56<00:00,  1.35s/it]\n",
      "                   all       4000      15159      0.984      0.988      0.992      0.951\n",
      "                   10c       4000        282      0.996          1      0.995      0.916\n",
      "                   10d       4000        290      0.998          1      0.995      0.914\n",
      "                   10h       4000        322      0.998          1      0.995       0.93\n",
      "                   10s       4000        250      0.994          1      0.995      0.929\n",
      "                    2c       4000        295      0.997          1      0.995      0.958\n",
      "                    2d       4000        259      0.998          1      0.995      0.955\n",
      "                    2h       4000        294      0.998          1      0.995      0.957\n",
      "                    2s       4000        299      0.999          1      0.995      0.957\n",
      "                    3c       4000        308      0.998          1      0.995      0.965\n",
      "                    3d       4000        250      0.998          1      0.995      0.964\n",
      "                    3h       4000        313      0.999          1      0.995      0.966\n",
      "                    3s       4000        358      0.997          1      0.995      0.963\n",
      "                    4c       4000        276      0.998          1      0.995      0.957\n",
      "                    4d       4000        282      0.997          1      0.995      0.947\n",
      "                    4h       4000        312      0.999          1      0.995      0.952\n",
      "                    4s       4000        295      0.998          1      0.995      0.953\n",
      "                    5c       4000        290      0.994          1      0.995      0.962\n",
      "                    5d       4000        283      0.995          1      0.995      0.957\n",
      "                    5h       4000        253      0.997          1      0.995      0.958\n",
      "                    5s       4000        281      0.999          1      0.995       0.96\n",
      "                    6c       4000        284      0.997          1      0.995      0.961\n",
      "                    6d       4000        286      0.999          1      0.995      0.961\n",
      "                    6h       4000        329      0.998          1      0.995      0.965\n",
      "                    6s       4000        289      0.998          1      0.995      0.962\n",
      "                    7c       4000        304      0.997          1      0.995      0.971\n",
      "                    7d       4000        311      0.999          1      0.995      0.969\n",
      "                    7h       4000        303      0.997          1      0.995      0.964\n",
      "                    7s       4000        304      0.998          1      0.995      0.962\n",
      "                    8c       4000        285      0.938      0.947      0.989      0.958\n",
      "                    8d       4000        261      0.911      0.931      0.978      0.946\n",
      "                    8h       4000        255      0.969       0.97      0.994      0.958\n",
      "                    8s       4000        339       0.86      0.855      0.953      0.911\n",
      "                    9c       4000        309      0.998          1      0.995      0.963\n",
      "                    9d       4000        275      0.998          1      0.995       0.96\n",
      "                    9h       4000        272      0.998          1      0.995      0.967\n",
      "                    9s       4000        263      0.998          1      0.995      0.961\n",
      "                    Ac       4000        288      0.934      0.941      0.984      0.933\n",
      "                    Ad       4000        294      0.925      0.969      0.989      0.943\n",
      "                    Ah       4000        283      0.782      0.812      0.904      0.855\n",
      "                    As       4000        322      0.963      0.975      0.993      0.941\n",
      "                    Jc       4000        265      0.998          1      0.995      0.951\n",
      "                    Jd       4000        285      0.998          1      0.995      0.934\n",
      "                    Jh       4000        278      0.998          1      0.995      0.927\n",
      "                    Js       4000        282          1      0.998      0.995      0.947\n",
      "                    Kc       4000        307      0.999          1      0.995      0.968\n",
      "                    Kd       4000        304      0.999          1      0.995      0.949\n",
      "                    Kh       4000        297      0.998          1      0.995      0.953\n",
      "                    Ks       4000        264      0.998          1      0.995      0.959\n",
      "                    Qc       4000        300      0.996      0.993      0.995      0.963\n",
      "                    Qd       4000        317      0.999          1      0.995       0.95\n",
      "                    Qh       4000        295      0.998      0.997      0.995      0.956\n",
      "                    Qs       4000        317      0.998          1      0.995      0.959\n",
      "Speed: 0.1ms preprocess, 7.1ms inference, 0.0ms loss, 1.2ms postprocess per image\n",
      "Results saved to \u001b[1mruns/detect/train24\u001b[0m\n"
     ]
    }
   ],
   "source": [
    "from ultralytics import YOLO\n",
    "##continue from epoch 13\n",
    "model = YOLO('/home/loworbitalioncannon/project/runs/detect/train23/weights/best.pt') \n",
    "model.train(data=\"/home/loworbitalioncannon/project/images/data.yaml\", epochs=20, imgsz=416, device=0, optimizer='NAdam', lr0=0.001,  workers=24,batch=48)"
   ]
  },
  {
   "cell_type": "code",
   "execution_count": 2,
   "metadata": {},
   "outputs": [
    {
     "name": "stderr",
     "output_type": "stream",
     "text": [
      "Ultralytics YOLOv8.0.113 🚀 Python-3.10.9 torch-2.0.1+cu117 CUDA:0 (Tesla T4, 14966MiB)\n",
      "\u001b[34m\u001b[1myolo/engine/trainer: \u001b[0mtask=detect, mode=train, model=yolov8l.pt, data=/home/loworbitalioncannon/project/other/data.yaml, epochs=30, patience=50, batch=16, imgsz=416, save=True, save_period=-1, cache=False, device=0, workers=24, project=None, name=None, exist_ok=False, pretrained=False, optimizer=NAdam, verbose=True, seed=0, deterministic=True, single_cls=False, rect=False, cos_lr=False, close_mosaic=0, resume=False, amp=True, fraction=1.0, profile=False, overlap_mask=True, mask_ratio=4, dropout=0.0, val=True, split=val, save_json=False, save_hybrid=False, conf=None, iou=0.7, max_det=300, half=False, dnn=False, plots=True, source=None, show=False, save_txt=False, save_conf=False, save_crop=False, show_labels=True, show_conf=True, vid_stride=1, line_width=None, visualize=False, augment=False, agnostic_nms=False, classes=None, retina_masks=False, boxes=True, format=torchscript, keras=False, optimize=False, int8=False, dynamic=False, simplify=False, opset=None, workspace=4, nms=False, lr0=0.001, lrf=0.01, momentum=0.937, weight_decay=0.0005, warmup_epochs=3.0, warmup_momentum=0.8, warmup_bias_lr=0.1, box=7.5, cls=0.5, dfl=1.5, pose=12.0, kobj=1.0, label_smoothing=0.0, nbs=64, hsv_h=0.015, hsv_s=0.7, hsv_v=0.4, degrees=0.0, translate=0.1, scale=0.5, shear=0.0, perspective=0.0, flipud=0.0, fliplr=0.5, mosaic=1.0, mixup=0.0, copy_paste=0.0, cfg=None, v5loader=False, tracker=botsort.yaml, save_dir=runs/detect/train4\n",
      "Overriding model.yaml nc=80 with nc=54\n",
      "\n",
      "                   from  n    params  module                                       arguments                     \n",
      "  0                  -1  1      1856  ultralytics.nn.modules.conv.Conv             [3, 64, 3, 2]                 \n",
      "  1                  -1  1     73984  ultralytics.nn.modules.conv.Conv             [64, 128, 3, 2]               \n",
      "  2                  -1  3    279808  ultralytics.nn.modules.block.C2f             [128, 128, 3, True]           \n",
      "  3                  -1  1    295424  ultralytics.nn.modules.conv.Conv             [128, 256, 3, 2]              \n",
      "  4                  -1  6   2101248  ultralytics.nn.modules.block.C2f             [256, 256, 6, True]           \n",
      "  5                  -1  1   1180672  ultralytics.nn.modules.conv.Conv             [256, 512, 3, 2]              \n",
      "  6                  -1  6   8396800  ultralytics.nn.modules.block.C2f             [512, 512, 6, True]           \n",
      "  7                  -1  1   2360320  ultralytics.nn.modules.conv.Conv             [512, 512, 3, 2]              \n",
      "  8                  -1  3   4461568  ultralytics.nn.modules.block.C2f             [512, 512, 3, True]           \n",
      "  9                  -1  1    656896  ultralytics.nn.modules.block.SPPF            [512, 512, 5]                 \n",
      " 10                  -1  1         0  torch.nn.modules.upsampling.Upsample         [None, 2, 'nearest']          \n",
      " 11             [-1, 6]  1         0  ultralytics.nn.modules.conv.Concat           [1]                           \n",
      " 12                  -1  3   4723712  ultralytics.nn.modules.block.C2f             [1024, 512, 3]                \n",
      " 13                  -1  1         0  torch.nn.modules.upsampling.Upsample         [None, 2, 'nearest']          \n",
      " 14             [-1, 4]  1         0  ultralytics.nn.modules.conv.Concat           [1]                           \n",
      " 15                  -1  3   1247744  ultralytics.nn.modules.block.C2f             [768, 256, 3]                 \n",
      " 16                  -1  1    590336  ultralytics.nn.modules.conv.Conv             [256, 256, 3, 2]              \n",
      " 17            [-1, 12]  1         0  ultralytics.nn.modules.conv.Concat           [1]                           \n",
      " 18                  -1  3   4592640  ultralytics.nn.modules.block.C2f             [768, 512, 3]                 \n",
      " 19                  -1  1   2360320  ultralytics.nn.modules.conv.Conv             [512, 512, 3, 2]              \n",
      " 20             [-1, 9]  1         0  ultralytics.nn.modules.conv.Concat           [1]                           \n",
      " 21                  -1  3   4723712  ultralytics.nn.modules.block.C2f             [1024, 512, 3]                \n",
      " 22        [15, 18, 21]  1   5624434  ultralytics.nn.modules.head.Detect           [54, [256, 512, 512]]         \n",
      "Model summary: 365 layers, 43671474 parameters, 43671458 gradients\n",
      "\n",
      "Transferred 589/595 items from pretrained weights\n",
      "\u001b[34m\u001b[1mAMP: \u001b[0mrunning Automatic Mixed Precision (AMP) checks with YOLOv8n...\n",
      "\u001b[34m\u001b[1mAMP: \u001b[0mchecks passed ✅\n",
      "\u001b[34m\u001b[1mtrain: \u001b[0mScanning /home/loworbitalioncannon/project/other/train/labels.cache... 10584 images, 1578 backgrounds, 0 corrupt: 100%|██████████| 10584/10584 [00:00<?, ?it/s]\u001b[0m\n",
      "\u001b[34m\u001b[1mval: \u001b[0mScanning /home/loworbitalioncannon/project/other/valid/labels.cache... 533 images, 0 backgrounds, 0 corrupt: 100%|██████████| 533/533 [00:00<?, ?it/s]\u001b[0m\n",
      "Plotting labels to runs/detect/train4/labels.jpg... \n",
      "\u001b[34m\u001b[1moptimizer:\u001b[0m NAdam(lr=0.001, momentum=0.937) with parameter groups 97 weight(decay=0.0), 104 weight(decay=0.0005), 103 bias(decay=0.0)\n",
      "Image sizes 416 train, 416 val\n",
      "Using 16 dataloader workers\n",
      "Logging results to \u001b[1mruns/detect/train4\u001b[0m\n",
      "Starting training for 30 epochs...\n",
      "\n",
      "      Epoch    GPU_mem   box_loss   cls_loss   dfl_loss  Instances       Size\n",
      "       1/30      4.92G      1.204      2.237      1.003         23        416: 100%|██████████| 662/662 [03:55<00:00,  2.81it/s]\n",
      "                 Class     Images  Instances      Box(P          R      mAP50  mAP50-95): 100%|██████████| 17/17 [00:06<00:00,  2.50it/s]\n",
      "                   all        533       2132      0.856      0.873       0.94       0.69\n",
      "\n",
      "      Epoch    GPU_mem   box_loss   cls_loss   dfl_loss  Instances       Size\n",
      "       2/30      5.17G      1.094      1.151     0.9676         39        416: 100%|██████████| 662/662 [03:48<00:00,  2.90it/s]\n",
      "                 Class     Images  Instances      Box(P          R      mAP50  mAP50-95): 100%|██████████| 17/17 [00:06<00:00,  2.49it/s]\n",
      "                   all        533       2132      0.943      0.941      0.959      0.772\n",
      "\n",
      "      Epoch    GPU_mem   box_loss   cls_loss   dfl_loss  Instances       Size\n",
      "       3/30      5.21G      1.028     0.9172     0.9531         37        416: 100%|██████████| 662/662 [03:45<00:00,  2.93it/s]\n",
      "                 Class     Images  Instances      Box(P          R      mAP50  mAP50-95): 100%|██████████| 17/17 [00:06<00:00,  2.48it/s]\n",
      "                   all        533       2132      0.958      0.966      0.962      0.793\n",
      "\n",
      "      Epoch    GPU_mem   box_loss   cls_loss   dfl_loss  Instances       Size\n",
      "       4/30       5.2G     0.9652     0.8138     0.9411         75        416:  59%|█████▉    | 390/662 [02:12<01:31,  2.97it/s]"
     ]
    }
   ],
   "source": [
    "from ultralytics import YOLO\n",
    "\n",
    "model = YOLO('yolov8l.pt') \n",
    "model.train(data=\"/home/loworbitalioncannon/project/other/data.yaml\", epochs=30, imgsz=416, device=0, optimizer='NAdam', lr0=0.001,  workers=24,batch=16 )"
   ]
  },
  {
   "cell_type": "code",
   "execution_count": 1,
   "metadata": {},
   "outputs": [
    {
     "name": "stderr",
     "output_type": "stream",
     "text": [
      "New https://pypi.org/project/ultralytics/8.0.114 available 😃 Update with 'pip install -U ultralytics'\n",
      "Ultralytics YOLOv8.0.113 🚀 Python-3.10.9 torch-2.0.1+cu117 CUDA:0 (Tesla T4, 14966MiB)\n",
      "\u001b[34m\u001b[1myolo/engine/trainer: \u001b[0mtask=detect, mode=train, model=/home/loworbitalioncannon/project/runs/detect/train13/weights/best.pt, data=/home/loworbitalioncannon/project/other/data.yaml, epochs=5, patience=50, batch=48, imgsz=416, save=True, save_period=-1, cache=False, device=0, workers=24, project=None, name=None, exist_ok=False, pretrained=False, optimizer=NAdam, verbose=True, seed=0, deterministic=True, single_cls=False, rect=False, cos_lr=False, close_mosaic=0, resume=False, amp=True, fraction=1.0, profile=False, overlap_mask=True, mask_ratio=4, dropout=0.0, val=True, split=val, save_json=False, save_hybrid=False, conf=None, iou=0.7, max_det=300, half=False, dnn=False, plots=True, source=None, show=False, save_txt=False, save_conf=False, save_crop=False, show_labels=True, show_conf=True, vid_stride=1, line_width=None, visualize=False, augment=False, agnostic_nms=False, classes=None, retina_masks=False, boxes=True, format=torchscript, keras=False, optimize=False, int8=False, dynamic=False, simplify=False, opset=None, workspace=4, nms=False, lr0=0.001, lrf=0.01, momentum=0.937, weight_decay=0.0005, warmup_epochs=3.0, warmup_momentum=0.8, warmup_bias_lr=0.1, box=7.5, cls=0.5, dfl=1.5, pose=12.0, kobj=1.0, label_smoothing=0.0, nbs=64, hsv_h=0.015, hsv_s=0.7, hsv_v=0.4, degrees=0.0, translate=0.1, scale=0.5, shear=0.0, perspective=0.0, flipud=0.0, fliplr=0.5, mosaic=1.0, mixup=0.0, copy_paste=0.0, cfg=None, v5loader=False, tracker=botsort.yaml, save_dir=runs/detect/train15\n",
      "\n",
      "                   from  n    params  module                                       arguments                     \n",
      "  0                  -1  1      1856  ultralytics.nn.modules.conv.Conv             [3, 64, 3, 2]                 \n",
      "  1                  -1  1     73984  ultralytics.nn.modules.conv.Conv             [64, 128, 3, 2]               \n",
      "  2                  -1  3    279808  ultralytics.nn.modules.block.C2f             [128, 128, 3, True]           \n",
      "  3                  -1  1    295424  ultralytics.nn.modules.conv.Conv             [128, 256, 3, 2]              \n",
      "  4                  -1  6   2101248  ultralytics.nn.modules.block.C2f             [256, 256, 6, True]           \n",
      "  5                  -1  1   1180672  ultralytics.nn.modules.conv.Conv             [256, 512, 3, 2]              \n",
      "  6                  -1  6   8396800  ultralytics.nn.modules.block.C2f             [512, 512, 6, True]           \n",
      "  7                  -1  1   2360320  ultralytics.nn.modules.conv.Conv             [512, 512, 3, 2]              \n",
      "  8                  -1  3   4461568  ultralytics.nn.modules.block.C2f             [512, 512, 3, True]           \n",
      "  9                  -1  1    656896  ultralytics.nn.modules.block.SPPF            [512, 512, 5]                 \n",
      " 10                  -1  1         0  torch.nn.modules.upsampling.Upsample         [None, 2, 'nearest']          \n",
      " 11             [-1, 6]  1         0  ultralytics.nn.modules.conv.Concat           [1]                           \n",
      " 12                  -1  3   4723712  ultralytics.nn.modules.block.C2f             [1024, 512, 3]                \n",
      " 13                  -1  1         0  torch.nn.modules.upsampling.Upsample         [None, 2, 'nearest']          \n",
      " 14             [-1, 4]  1         0  ultralytics.nn.modules.conv.Concat           [1]                           \n",
      " 15                  -1  3   1247744  ultralytics.nn.modules.block.C2f             [768, 256, 3]                 \n",
      " 16                  -1  1    590336  ultralytics.nn.modules.conv.Conv             [256, 256, 3, 2]              \n",
      " 17            [-1, 12]  1         0  ultralytics.nn.modules.conv.Concat           [1]                           \n",
      " 18                  -1  3   4592640  ultralytics.nn.modules.block.C2f             [768, 512, 3]                 \n",
      " 19                  -1  1   2360320  ultralytics.nn.modules.conv.Conv             [512, 512, 3, 2]              \n",
      " 20             [-1, 9]  1         0  ultralytics.nn.modules.conv.Concat           [1]                           \n",
      " 21                  -1  3   4723712  ultralytics.nn.modules.block.C2f             [1024, 512, 3]                \n",
      " 22        [15, 18, 21]  1   5624434  ultralytics.nn.modules.head.Detect           [54, [256, 512, 512]]         \n",
      "Model summary: 365 layers, 43671474 parameters, 43671458 gradients\n",
      "\n",
      "Transferred 595/595 items from pretrained weights\n",
      "\u001b[34m\u001b[1mwandb\u001b[0m: Currently logged in as: \u001b[33mloworbitalioncannon\u001b[0m (\u001b[33mtaegoneom\u001b[0m). Use \u001b[1m`wandb login --relogin`\u001b[0m to force relogin\n"
     ]
    },
    {
     "data": {
      "text/html": [
       "Tracking run with wandb version 0.15.3"
      ],
      "text/plain": [
       "<IPython.core.display.HTML object>"
      ]
     },
     "metadata": {},
     "output_type": "display_data"
    },
    {
     "data": {
      "text/html": [
       "Run data is saved locally in <code>/home/loworbitalioncannon/project/wandb/run-20230606_110412-t96wtrtm</code>"
      ],
      "text/plain": [
       "<IPython.core.display.HTML object>"
      ]
     },
     "metadata": {},
     "output_type": "display_data"
    },
    {
     "data": {
      "text/html": [
       "Syncing run <strong><a href='https://wandb.ai/taegoneom/YOLOv8/runs/t96wtrtm' target=\"_blank\">super-sound-97</a></strong> to <a href='https://wandb.ai/taegoneom/YOLOv8' target=\"_blank\">Weights & Biases</a> (<a href='https://wandb.me/run' target=\"_blank\">docs</a>)<br/>"
      ],
      "text/plain": [
       "<IPython.core.display.HTML object>"
      ]
     },
     "metadata": {},
     "output_type": "display_data"
    },
    {
     "data": {
      "text/html": [
       " View project at <a href='https://wandb.ai/taegoneom/YOLOv8' target=\"_blank\">https://wandb.ai/taegoneom/YOLOv8</a>"
      ],
      "text/plain": [
       "<IPython.core.display.HTML object>"
      ]
     },
     "metadata": {},
     "output_type": "display_data"
    },
    {
     "data": {
      "text/html": [
       " View run at <a href='https://wandb.ai/taegoneom/YOLOv8/runs/t96wtrtm' target=\"_blank\">https://wandb.ai/taegoneom/YOLOv8/runs/t96wtrtm</a>"
      ],
      "text/plain": [
       "<IPython.core.display.HTML object>"
      ]
     },
     "metadata": {},
     "output_type": "display_data"
    },
    {
     "name": "stderr",
     "output_type": "stream",
     "text": [
      "\u001b[34m\u001b[1mAMP: \u001b[0mrunning Automatic Mixed Precision (AMP) checks with YOLOv8n...\n",
      "\u001b[34m\u001b[1mAMP: \u001b[0mchecks passed ✅\n",
      "\u001b[34m\u001b[1mtrain: \u001b[0mScanning /home/loworbitalioncannon/project/other/train/labels.cache... 10584 images, 1578 backgrounds, 0 corrupt: 100%|██████████| 10584/10584 [00:00<?, ?it/s]\u001b[0m\n",
      "\u001b[34m\u001b[1mval: \u001b[0mScanning /home/loworbitalioncannon/project/other/valid/labels.cache... 533 images, 0 backgrounds, 0 corrupt: 100%|██████████| 533/533 [00:00<?, ?it/s]\u001b[0m\n",
      "Plotting labels to runs/detect/train15/labels.jpg... \n",
      "\u001b[34m\u001b[1moptimizer:\u001b[0m NAdam(lr=0.001, momentum=0.937) with parameter groups 97 weight(decay=0.0), 104 weight(decay=0.000375), 103 bias(decay=0.0)\n",
      "Image sizes 416 train, 416 val\n",
      "Using 24 dataloader workers\n",
      "Logging results to \u001b[1mruns/detect/train15\u001b[0m\n",
      "Starting training for 5 epochs...\n",
      "\n",
      "      Epoch    GPU_mem   box_loss   cls_loss   dfl_loss  Instances       Size\n",
      "        1/5        12G     0.6544     0.4071     0.8672        103        416: 100%|██████████| 221/221 [03:37<00:00,  1.02it/s]\n",
      "                 Class     Images  Instances      Box(P          R      mAP50  mAP50-95): 100%|██████████| 6/6 [00:06<00:00,  1.15s/it]\n",
      "                   all        533       2132       0.97      0.978      0.965      0.859\n",
      "\n",
      "      Epoch    GPU_mem   box_loss   cls_loss   dfl_loss  Instances       Size\n",
      "        2/5      12.1G     0.6443     0.3908     0.8696        112        416: 100%|██████████| 221/221 [03:39<00:00,  1.01it/s]\n",
      "                 Class     Images  Instances      Box(P          R      mAP50  mAP50-95): 100%|██████████| 6/6 [00:06<00:00,  1.14s/it]\n",
      "                   all        533       2132      0.967      0.976      0.967      0.832\n",
      "\n",
      "      Epoch    GPU_mem   box_loss   cls_loss   dfl_loss  Instances       Size\n",
      "        3/5      12.1G     0.6336     0.3833     0.8659         94        416: 100%|██████████| 221/221 [03:38<00:00,  1.01it/s]\n",
      "                 Class     Images  Instances      Box(P          R      mAP50  mAP50-95): 100%|██████████| 6/6 [00:06<00:00,  1.16s/it]\n",
      "                   all        533       2132       0.97      0.976      0.967      0.855\n",
      "\n",
      "      Epoch    GPU_mem   box_loss   cls_loss   dfl_loss  Instances       Size\n",
      "        4/5      12.1G     0.6202     0.3711     0.8602        101        416: 100%|██████████| 221/221 [03:37<00:00,  1.01it/s]\n",
      "                 Class     Images  Instances      Box(P          R      mAP50  mAP50-95): 100%|██████████| 6/6 [00:06<00:00,  1.15s/it]\n",
      "                   all        533       2132       0.97      0.978      0.968      0.857\n",
      "\n",
      "      Epoch    GPU_mem   box_loss   cls_loss   dfl_loss  Instances       Size\n",
      "        5/5      12.1G     0.6213       0.37     0.8626         96        416: 100%|██████████| 221/221 [03:37<00:00,  1.01it/s]\n",
      "                 Class     Images  Instances      Box(P          R      mAP50  mAP50-95): 100%|██████████| 6/6 [00:09<00:00,  1.56s/it]\n",
      "                   all        533       2132      0.971      0.978      0.966      0.851\n",
      "\n",
      "5 epochs completed in 0.321 hours.\n",
      "Optimizer stripped from runs/detect/train15/weights/last.pt, 87.7MB\n",
      "Optimizer stripped from runs/detect/train15/weights/best.pt, 87.7MB\n",
      "\n",
      "Validating runs/detect/train15/weights/best.pt...\n",
      "Ultralytics YOLOv8.0.113 🚀 Python-3.10.9 torch-2.0.1+cu117 CUDA:0 (Tesla T4, 14966MiB)\n",
      "Model summary (fused): 268 layers, 43648242 parameters, 0 gradients\n",
      "                 Class     Images  Instances      Box(P          R      mAP50  mAP50-95):  17%|█▋        | 1/6 [00:01<00:06,  1.39s/it]\u001b[34m\u001b[1mwandb\u001b[0m: Network error resolved after 0:00:01.329272, resuming normal operation.\n",
      "                 Class     Images  Instances      Box(P          R      mAP50  mAP50-95): 100%|██████████| 6/6 [00:09<00:00,  1.56s/it]\n",
      "                   all        533       2132       0.97      0.978      0.965      0.859\n",
      "                   10c        533         42      0.995          1      0.995      0.901\n",
      "                   10d        533         37      0.968          1      0.974      0.841\n",
      "                   10h        533         51      0.994          1      0.995       0.89\n",
      "                   10s        533         35      0.994          1      0.995      0.887\n",
      "                    2c        533         33      0.934      0.939      0.917      0.807\n",
      "                    2d        533         41      0.996      0.951      0.966      0.869\n",
      "                    2h        533         47      0.954          1      0.963       0.88\n",
      "                    2s        533         32      0.993          1      0.995      0.884\n",
      "                    3c        533         44      0.968      0.841      0.911      0.773\n",
      "                    3d        533         33      0.964          1      0.995      0.928\n",
      "                    3h        533         41      0.998      0.976       0.98      0.873\n",
      "                    3s        533         30      0.991          1      0.995      0.898\n",
      "                    4c        533         57      0.993      0.982      0.987       0.88\n",
      "                    4d        533         59      0.963      0.915      0.933      0.836\n",
      "                    4h        533         43      0.893          1      0.891      0.782\n",
      "                    4s        533         35      0.966          1      0.979      0.867\n",
      "                    5c        533         52      0.996          1      0.995      0.862\n",
      "                    5d        533         46      0.999          1      0.995      0.931\n",
      "                    5h        533         42      0.992          1      0.995      0.893\n",
      "                    5s        533         31      0.992      0.968       0.97      0.866\n",
      "                    6c        533         41      0.924      0.976      0.923       0.84\n",
      "                    6d        533         35       0.91      0.971      0.919      0.823\n",
      "                    6h        533         33      0.998          1      0.995      0.886\n",
      "                    6s        533         45      0.952      0.956      0.938      0.839\n",
      "                    7c        533         33      0.992          1      0.995      0.902\n",
      "                    7d        533         34      0.995          1      0.995       0.87\n",
      "                    7h        533         33      0.994          1      0.995      0.899\n",
      "                    7s        533         33      0.993          1      0.995      0.881\n",
      "                    8c        533         40      0.992          1      0.995      0.887\n",
      "                    8d        533         50      0.995       0.98      0.983      0.886\n",
      "                    8h        533         19      0.571          1      0.593      0.523\n",
      "                    8s        533         27      0.993          1      0.995      0.901\n",
      "                    9c        533         41      0.994          1      0.995      0.887\n",
      "                    9d        533         50      0.956       0.96      0.966      0.825\n",
      "                    9h        533         41      0.967      0.902      0.919      0.831\n",
      "                    9s        533         52      0.997          1      0.995      0.885\n",
      "                    Ac        533         40      0.995          1      0.995      0.865\n",
      "                    Ad        533         48          1      0.972      0.987      0.883\n",
      "                    Ah        533         48      0.993      0.771      0.803      0.699\n",
      "                    As        533         38      0.994          1      0.995      0.896\n",
      "                    Jc        533         39      0.967      0.974      0.962      0.864\n",
      "                    Jd        533         46          1      0.974      0.979      0.882\n",
      "                    Jh        533         34      0.889          1      0.906      0.796\n",
      "                    Js        533         42      0.953      0.976      0.968      0.859\n",
      "                    Kc        533         35      0.943          1      0.994      0.877\n",
      "                    Kd        533         48      0.994          1      0.995      0.876\n",
      "                    Kh        533         61      0.997          1      0.995      0.876\n",
      "                    Ks        533         48          1      0.972      0.988      0.896\n",
      "                    Qc        533         52          1      0.997      0.995      0.873\n",
      "                    Qd        533         35      0.999          1      0.995      0.882\n",
      "                    Qh        533         46      0.994      0.913      0.989      0.849\n",
      "                    Qs        533         34      0.957          1      0.995      0.859\n",
      "Speed: 0.4ms preprocess, 7.2ms inference, 0.0ms loss, 4.2ms postprocess per image\n",
      "Results saved to \u001b[1mruns/detect/train15\u001b[0m\n"
     ]
    }
   ],
   "source": [
    "from ultralytics import YOLO\n",
    "\n",
    "model = YOLO('/home/loworbitalioncannon/project/runs/detect/train13/weights/best.pt') \n",
    "model.train(data=\"/home/loworbitalioncannon/project/other/data.yaml\", epochs=5, imgsz=416, device=0, optimizer='NAdam', lr0=0.001,  workers=24,batch=48 )"
   ]
  }
 ],
 "metadata": {
  "kernelspec": {
   "display_name": "local-venv",
   "language": "python",
   "name": "local-venv"
  },
  "language_info": {
   "codemirror_mode": {
    "name": "ipython",
    "version": 3
   },
   "file_extension": ".py",
   "mimetype": "text/x-python",
   "name": "python",
   "nbconvert_exporter": "python",
   "pygments_lexer": "ipython3",
   "version": "3.10.9"
  },
  "orig_nbformat": 4
 },
 "nbformat": 4,
 "nbformat_minor": 2
}
